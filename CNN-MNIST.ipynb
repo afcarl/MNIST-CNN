{
 "cells": [
  {
   "cell_type": "markdown",
   "metadata": {},
   "source": [
    "## Covolutional Neural Network\n",
    "Applying a CNN on MNIST dataset"
   ]
  },
  {
   "cell_type": "code",
   "execution_count": 6,
   "metadata": {
    "collapsed": true
   },
   "outputs": [],
   "source": [
    "%matplotlib inline\n",
    "import matplotlib.pyplot as plt\n",
    "import tensorflow as tf\n",
    "import numpy as np\n",
    "from tqdm import tqdm"
   ]
  },
  {
   "cell_type": "code",
   "execution_count": 7,
   "metadata": {
    "collapsed": false
   },
   "outputs": [
    {
     "name": "stdout",
     "output_type": "stream",
     "text": [
      "Extracting MNIST/train-images-idx3-ubyte.gz\n",
      "Extracting MNIST/train-labels-idx1-ubyte.gz\n",
      "Extracting MNIST/t10k-images-idx3-ubyte.gz\n",
      "Extracting MNIST/t10k-labels-idx1-ubyte.gz\n"
     ]
    }
   ],
   "source": [
    "# Data Collection\n",
    "from tensorflow.examples.tutorials.mnist import input_data\n",
    "mnist = input_data.read_data_sets(\"MNIST/\", one_hot=True)"
   ]
  },
  {
   "cell_type": "code",
   "execution_count": 8,
   "metadata": {
    "collapsed": true
   },
   "outputs": [],
   "source": [
    "# Defining the model parameters\n",
    "\n",
    "# Number of classes to classify the input data\n",
    "n_classes = 10\n",
    "# In order to handle the large data size, we will only concentrate on a batch of data\n",
    "batch_size = 128\n",
    "\n",
    "# Defining the output as well as the input data\n",
    "x = tf.placeholder('float', [None, 784])\n",
    "y = tf.placeholder('float')"
   ]
  },
  {
   "cell_type": "code",
   "execution_count": 10,
   "metadata": {
    "collapsed": true
   },
   "outputs": [],
   "source": [
    "def conv2d(x, W):\n",
    "    return tf.nn.conv2d(x, W, strides=[1,1,1,1], padding='SAME')\n",
    "\n",
    "def maxpool2d(x):\n",
    "    return tf.nn.max_pool(x, ksize=[1,2,2,1], strides=[1,2,2,1], padding='SAME')\n",
    "\n",
    "# Deining the Neural Network Model\n",
    "def convolutional_neural_network_model(x):\n",
    "    # Defining the weights for the first hidden layer with the shape no_inputs X n_nodes_h1\n",
    "    #5x5 convolution, 1 input, 32 features \n",
    "    weights = {'W_conv1': tf.Variable(tf.random_normal([5,5,1,32])),\n",
    "              'W_conv2': tf.Variable(tf.random_normal([5,5,32,64])),\n",
    "              'W_fc': tf.Variable(tf.random_normal([7*7*64,1024])),\n",
    "              'out': tf.Variable(tf.random_normal([1024, n_classes]))}\n",
    "    \n",
    "    biases = {'B_conv1': tf.Variable(tf.random_normal([32])),\n",
    "              'B_conv2': tf.Variable(tf.random_normal([64])),\n",
    "              'B_fc': tf.Variable(tf.random_normal([1024])),\n",
    "              'out': tf.Variable(tf.random_normal([n_classes]))}\n",
    "    \n",
    "    # Reshaping the input images\n",
    "    x = tf.reshape(x, shape=[-1, 28, 28, 1])\n",
    "    # Creating the first convolutional layer\n",
    "    conv1 =  tf.nn.relu(conv2d(x,weights['W_conv1']) + biases['B_conv1'])\n",
    "    conv1 =  maxpool2d(conv1)\n",
    "\n",
    "    conv2 =  tf.nn.relu(conv2d(conv1,weights['W_conv2']) + biases['B_conv2'])\n",
    "    conv2 = maxpool2d(conv2)\n",
    "    \n",
    "    # Creating the fully connected layers\n",
    "    fc = tf.reshape(conv2, shape=[-1,7*7*64])\n",
    "    fc = tf.nn.relu(tf.matmul(fc, weights['W_fc']) + biases['B_fc'])\n",
    "    \n",
    "    output = tf.matmul(fc, weights['out']) + biases['out']\n",
    "\n",
    "    return output"
   ]
  },
  {
   "cell_type": "code",
   "execution_count": 11,
   "metadata": {
    "collapsed": true
   },
   "outputs": [],
   "source": [
    "# Training the neural network\n",
    "def train_neural_network(x,y):\n",
    "    prediction = convolutional_neural_network_model(x)\n",
    "    # Calculating the cost function\n",
    "    cost = tf.reduce_mean(tf.nn.softmax_cross_entropy_with_logits(logits=prediction,labels= y))\n",
    "    # Optimizing the cost function : Using the AdamOptimizer and the default learning rate of 0.01\n",
    "    optimizer = tf.train.AdamOptimizer().minimize(cost)\n",
    "    \n",
    "    # Defining the number of epochs : Cycles of feedforward + backprop\n",
    "    hm_epochs = 10\n",
    "    \n",
    "    # Running the tensorflow session\n",
    "    with tf.Session() as sess:\n",
    "        sess.run(tf.global_variables_initializer())\n",
    "        # Running through the epochs and training the network\n",
    "        for epoch in range(hm_epochs):\n",
    "            epoch_loss = 0\n",
    "            for _ in range(int(mnist.train.num_examples/batch_size)):\n",
    "                x_t, y_t = mnist.train.next_batch(batch_size)\n",
    "                # Run the optimizer on the cost function\n",
    "                sess.run(optimizer, feed_dict={x: x_t, y: y_t})\n",
    "            print(\"Epoch \", epoch, \"completed out of \", hm_epochs)\n",
    "            \n",
    "        # Testing the network\n",
    "        correct = tf.equal(tf.argmax(prediction,1), tf.argmax(y,1))\n",
    "        accuracy = tf.reduce_mean(tf.cast(correct, 'float'))\n",
    "        print(\"Accuracy\" , accuracy.eval({x: mnist.test.images, y: mnist.test.labels})) "
   ]
  },
  {
   "cell_type": "code",
   "execution_count": null,
   "metadata": {
    "collapsed": true
   },
   "outputs": [],
   "source": [
    "train_neural_network(x,y)"
   ]
  },
  {
   "cell_type": "code",
   "execution_count": null,
   "metadata": {
    "collapsed": true
   },
   "outputs": [],
   "source": []
  }
 ],
 "metadata": {
  "kernelspec": {
   "display_name": "Python 3",
   "language": "python",
   "name": "python3"
  },
  "language_info": {
   "codemirror_mode": {
    "name": "ipython",
    "version": 3
   },
   "file_extension": ".py",
   "mimetype": "text/x-python",
   "name": "python",
   "nbconvert_exporter": "python",
   "pygments_lexer": "ipython3",
   "version": "3.5.3"
  }
 },
 "nbformat": 4,
 "nbformat_minor": 2
}
