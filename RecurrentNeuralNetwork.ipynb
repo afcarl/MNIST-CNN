{
 "cells": [
  {
   "cell_type": "code",
   "execution_count": 21,
   "metadata": {
    "collapsed": false
   },
   "outputs": [],
   "source": [
    "%matplotlib inline\n",
    "import matplotlib.pyplot as plt\n",
    "import tensorflow as tf\n",
    "import numpy as np\n",
    "from tqdm import tqdm\n",
    "from tensorflow.contrib import rnn"
   ]
  },
  {
   "cell_type": "code",
   "execution_count": 22,
   "metadata": {
    "collapsed": false
   },
   "outputs": [
    {
     "name": "stdout",
     "output_type": "stream",
     "text": [
      "Extracting MNIST/train-images-idx3-ubyte.gz\n",
      "Extracting MNIST/train-labels-idx1-ubyte.gz\n",
      "Extracting MNIST/t10k-images-idx3-ubyte.gz\n",
      "Extracting MNIST/t10k-labels-idx1-ubyte.gz\n"
     ]
    }
   ],
   "source": [
    "# Data Collection\n",
    "from tensorflow.examples.tutorials.mnist import input_data\n",
    "mnist = input_data.read_data_sets(\"MNIST/\", one_hot=True)"
   ]
  },
  {
   "cell_type": "code",
   "execution_count": 23,
   "metadata": {
    "collapsed": true
   },
   "outputs": [],
   "source": [
    "# Defining the model parameters\n",
    "\n",
    "# Number of classes to classify the input data\n",
    "n_classes = 10\n",
    "# In order to handle the large data size, we will only concentrate on a batch of data\n",
    "batch_size = 128\n",
    "\n",
    "# Defining the chunk size and number of chunks for LSTM\n",
    "chunk_size = 28\n",
    "n_chunks = 28\n",
    "rnn_size = 128\n",
    "\n",
    "# Defining the number of epochs : Cycles of feedforward + backprop\n",
    "hm_epochs = 10\n",
    "\n",
    "# Defining the output as well as the input data\n",
    "x = tf.placeholder('float', [None, n_chunks, chunk_size])\n",
    "y = tf.placeholder('float')"
   ]
  },
  {
   "cell_type": "code",
   "execution_count": 27,
   "metadata": {
    "collapsed": true
   },
   "outputs": [],
   "source": [
    "# Deining the Neural Network Model\n",
    "def recurrent_neural_network_model(x):\n",
    "    # Defining the weights for the first hidden layer with the shape no_inputs X n_nodes_h1\n",
    "    layer = {'weights': tf.Variable(tf.random_normal([rnn_size, n_classes])), \n",
    "                     'biases': tf.Variable(tf.random_normal([n_classes]))}\n",
    "    \n",
    "    x = tf.transpose(x, [1,0,2])\n",
    "    x = tf.reshape(x, [-1,chunk_size])\n",
    "    x = tf.split(x, n_chunks, 0)\n",
    "    \n",
    "    lstm_cell = rnn.BasicLSTMCell(rnn_size)\n",
    "    outputs, states = rnn.static_rnn(lstm_cell, x, dtype=tf.float32)\n",
    "    \n",
    "    output = tf.matmul(outputs[-1],layer['weights']) + layer['biases']\n",
    "\n",
    "    return output"
   ]
  },
  {
   "cell_type": "code",
   "execution_count": 28,
   "metadata": {
    "collapsed": true
   },
   "outputs": [],
   "source": [
    "# Training the neural network\n",
    "def train_neural_network(x,y):\n",
    "    prediction = recurrent_neural_network_model(x)\n",
    "    # Calculating the cost function\n",
    "    cost = tf.reduce_mean(tf.nn.softmax_cross_entropy_with_logits(logits=prediction,labels= y))\n",
    "    # Optimizing the cost function : Using the AdamOptimizer and the default learning rate of 0.01\n",
    "    optimizer = tf.train.AdamOptimizer().minimize(cost)\n",
    "    \n",
    "    # Running the tensorflow session\n",
    "    with tf.Session() as sess:\n",
    "        sess.run(tf.global_variables_initializer())\n",
    "        # Running through the epochs and training the network\n",
    "        for epoch in range(hm_epochs):\n",
    "            epoch_loss = 0\n",
    "            for _ in range(int(mnist.train.num_examples/batch_size)):\n",
    "                x_t, y_t = mnist.train.next_batch(batch_size)\n",
    "                x_t = x_t.reshape((batch_size, n_chunks, chunk_size))\n",
    "                # Run the optimizer on the cost function\n",
    "                sess.run(optimizer, feed_dict={x: x_t, y: y_t})\n",
    "            print(\"Epoch \", epoch, \"completed out of \", hm_epochs)\n",
    "            \n",
    "        # Testing the network\n",
    "        correct = tf.equal(tf.argmax(prediction,1), tf.argmax(y,1))\n",
    "        accuracy = tf.reduce_mean(tf.cast(correct, 'float'))\n",
    "        print(\"Accuracy\" , accuracy.eval({x: mnist.test.images.reshape((-1, n_chunks, chunk_size)), y: mnist.test.labels})) "
   ]
  },
  {
   "cell_type": "code",
   "execution_count": 29,
   "metadata": {
    "collapsed": false
   },
   "outputs": [
    {
     "name": "stdout",
     "output_type": "stream",
     "text": [
      "Epoch  0 completed out of  10\n",
      "Epoch  1 completed out of  10\n",
      "Epoch  2 completed out of  10\n",
      "Epoch  3 completed out of  10\n",
      "Epoch  4 completed out of  10\n",
      "Epoch  5 completed out of  10\n",
      "Epoch  6 completed out of  10\n",
      "Epoch  7 completed out of  10\n",
      "Epoch  8 completed out of  10\n",
      "Epoch  9 completed out of  10\n",
      "Accuracy 0.9848\n"
     ]
    }
   ],
   "source": [
    "train_neural_network(x,y)"
   ]
  },
  {
   "cell_type": "code",
   "execution_count": null,
   "metadata": {
    "collapsed": true
   },
   "outputs": [],
   "source": []
  }
 ],
 "metadata": {
  "kernelspec": {
   "display_name": "Python 3",
   "language": "python",
   "name": "python3"
  },
  "language_info": {
   "codemirror_mode": {
    "name": "ipython",
    "version": 3
   },
   "file_extension": ".py",
   "mimetype": "text/x-python",
   "name": "python",
   "nbconvert_exporter": "python",
   "pygments_lexer": "ipython3",
   "version": "3.5.3"
  }
 },
 "nbformat": 4,
 "nbformat_minor": 2
}
